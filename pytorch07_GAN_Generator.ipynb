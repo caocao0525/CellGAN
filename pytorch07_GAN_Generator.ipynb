{
 "cells": [
  {
   "cell_type": "markdown",
   "metadata": {},
   "source": [
    "### GAN: Generative Adversarial Network\n",
    "\n",
    "pp. 154 ~"
   ]
  },
  {
   "cell_type": "code",
   "execution_count": 1,
   "metadata": {},
   "outputs": [],
   "source": [
    "import torch\n",
    "import torchvision\n",
    "from torchvision import models #  import pretrained model from torchvision\n",
    "import torch.nn as nn\n",
    "import torch.optim as optim\n",
    "import torch.nn.functional as F\n",
    "import torchvision.transforms as transforms\n",
    "%matplotlib inline\n",
    "import numpy as np\n",
    "from matplotlib import pyplot as plt\n",
    "import os"
   ]
  },
  {
   "cell_type": "code",
   "execution_count": 2,
   "metadata": {},
   "outputs": [],
   "source": [
    "class Generator(nn.Module):\n",
    "    \"\"\"\n",
    "    class of Generator G\n",
    "    \"\"\"\n",
    "    def __init__(self, nz=100, nch_g=64, nch=3):\n",
    "        \"\"\"\n",
    "        param nz: dimension of the input vector\n",
    "        param nch_g: number of input channnels at the final layer\n",
    "        param nch: number of channels of the output image\n",
    "        \"\"\"\n",
    "        super(Generator, self).__init__()\n",
    "        \n",
    "        # Define the structure of neural network\n",
    "        self.layers = nn.ModuleList([\n",
    "            nn.Sequential(\n",
    "                nn.ConvTranspose2d(nz, nch_g*8, 4, 1, 0), # transpose\n",
    "                nn.BatchNorm2d(nch_g*8), # batch normalization\n",
    "                nn.ReLU()\n",
    "            ),    # (B, nz, 1, 1) -> (B, nch_g*8, 4, 4)\n",
    "            nn.Sequential(\n",
    "                nn.ConvTranspose2d(nch_g*8, nch_g*4, 4, 2, 1),\n",
    "                nn.BatchNorm2d(nch_g*4), \n",
    "                nn.ReLU()\n",
    "            ),    # (B, nch_g*8, 4, 4) -> (B, nch_g*4, 8, 8)\n",
    "            nn.Sequential(\n",
    "                nn.ConvTranspose2d(nch_g*4, nch_g*2, 4, 2, 1), \n",
    "                nn.BatchNorm2d(nch_g*2), \n",
    "                nn.ReLU()\n",
    "            ),    # (B, nch_g*4, 8, 8) -> (B, nch_g*2, 16, 16)\n",
    "            nn.Sequential(\n",
    "                nn.ConvTranspose2d(nch_g*2, nch_g, 4, 2, 1), \n",
    "                nn.BatchNorm2d(nch_g), \n",
    "                nn.ReLU()\n",
    "            ),    # (B, nch_g*2, 16, 16) -> (B, nch_g, 32, 32)\n",
    "            nn.Sequential(\n",
    "                nn.ConvTranspose2d(nch_g, nch, 4, 2, 1), \n",
    "                nn.Tanh()\n",
    "            )    # (B, nch_g, 32, 32) -> (B, nch, 64, 64)\n",
    "            \n",
    "        ])"
   ]
  },
  {
   "cell_type": "code",
   "execution_count": null,
   "metadata": {},
   "outputs": [],
   "source": [
    "def forward(self,z):\n",
    "    \"\"\"\n",
    "    forward calculation\n",
    "    param z: input vector\n",
    "    return: generated image\n",
    "    \"\"\"\n",
    "    for layer in self.layers:\n",
    "        z = layers(z)\n",
    "    return z"
   ]
  }
 ],
 "metadata": {
  "kernelspec": {
   "display_name": "Python 3",
   "language": "python",
   "name": "python3"
  },
  "language_info": {
   "codemirror_mode": {
    "name": "ipython",
    "version": 3
   },
   "file_extension": ".py",
   "mimetype": "text/x-python",
   "name": "python",
   "nbconvert_exporter": "python",
   "pygments_lexer": "ipython3",
   "version": "3.7.9"
  }
 },
 "nbformat": 4,
 "nbformat_minor": 4
}
