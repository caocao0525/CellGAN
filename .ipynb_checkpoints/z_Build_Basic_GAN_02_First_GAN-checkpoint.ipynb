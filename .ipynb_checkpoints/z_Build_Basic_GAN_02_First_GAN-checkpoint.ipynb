{
 "cells": [
  {
   "cell_type": "markdown",
   "metadata": {},
   "source": [
    "### First GAN"
   ]
  },
  {
   "cell_type": "code",
   "execution_count": 1,
   "metadata": {},
   "outputs": [],
   "source": [
    "import torch\n",
    "from torch import nn\n",
    "from tqdm.auto import tqdm\n",
    "from torchvision import transforms\n",
    "from torchvision.datasets import MNIST  # training dataset\n",
    "from torchvision.utils import make_grid\n",
    "from torch.utils.data import DataLoader\n",
    "import matplotlib.pyplot as plt\n",
    "torch.manual_seed(0) # to check \n",
    "\n",
    "def show_tensor_images(image_tensor, num_images=25, size=(1,28,28)):\n",
    "    \"\"\"\n",
    "    Function for visualizing images: Given a tensor of images, number of images, and\n",
    "    size per image, plots and prints the images in a uniform grid.\n",
    "    \"\"\"\n",
    "    image_unflat = image_tensor.detach().cpu().view(-1, *size)\n",
    "    image_grid = make_grid(image_unflat[:num_images], nrow=5)\n",
    "    plt.imshow(image_grid.permute(1,2,0).squeeze())\n",
    "    plt.show()"
   ]
  },
  {
   "cell_type": "markdown",
   "metadata": {},
   "source": [
    "**Generator**\n",
    "\n",
    "The first step is to build the generator component."
   ]
  },
  {
   "cell_type": "code",
   "execution_count": 2,
   "metadata": {},
   "outputs": [],
   "source": [
    "def get_generator_block(input_dim, output_dim):\n",
    "    \"\"\"\n",
    "    Function for returning a block of generator's neural netwrork given input and output dimension\n",
    "    Parameters:\n",
    "        input_dim: dimensions of input vector (scalar)\n",
    "        output_dim: dimensions of output vector (scalar)\n",
    "    \"\"\"\n",
    "    return nn.Sequential(\n",
    "        nn.Linear(input_dim, output_dim),\n",
    "        nn.BatchNorm1d(output_dim),\n",
    "        nn.ReLU(inplace=True),\n",
    "    )"
   ]
  },
  {
   "cell_type": "code",
   "execution_count": null,
   "metadata": {},
   "outputs": [],
   "source": [
    "\n",
    "# class Generator(nn.Module):\n",
    "#     '''\n",
    "#     Generator Class\n",
    "#     Values:\n",
    "#         z_dim: the dimension of the noise vector, a scalar\n",
    "#         im_dim: the dimension of the images, fitted for the dataset used, a scalar\n",
    "#           (MNIST images are 28 x 28 = 784 so that is your default)\n",
    "#         hidden_dim: the inner dimension, a scalar\n",
    "#     '''\n",
    "#     def __init__(self, z_dim=10, im_dim=784, hidden_dim=128):\n",
    "#         super(Generator, self).__init__()\n",
    "#         # Build the neural network\n",
    "#         self.gen = nn.Sequential(\n",
    "#             get_generator_block(z_dim, hidden_dim),\n",
    "#             get_generator_block(hidden_dim, hidden_dim * 2),\n",
    "#             get_generator_block(hidden_dim * 2, hidden_dim * 4),\n",
    "#             get_generator_block(hidden_dim * 4, hidden_dim * 8),\n",
    "#             # There is a dropdown with hints if you need them! \n",
    "\n",
    "#             nn.Linear(hidden_dim * 8, im_dim),\n",
    "#             nn.Sigmoid()\n",
    "\n",
    "#         )\n",
    "#     def forward(self, noise):\n",
    "#         '''\n",
    "#         Function for completing a forward pass of the generator: Given a noise tensor, \n",
    "#         returns generated images.\n",
    "#         Parameters:\n",
    "#             noise: a noise tensor with dimensions (n_samples, z_dim)\n",
    "#         '''\n",
    "#         return self.gen(noise)\n",
    "    \n",
    "#     # Needed for grading\n",
    "#     def get_gen(self):\n",
    "#         '''\n",
    "#         Returns:\n",
    "#             the sequential model\n",
    "#         '''\n",
    "#         return self.gen"
   ]
  },
  {
   "cell_type": "code",
   "execution_count": null,
   "metadata": {},
   "outputs": [],
   "source": [
    "class Generator(nn.Module):\n",
    "    \"\"\"\n",
    "    Generator class\n",
    "    values:\n",
    "        z_dim: the dimension of the noise vector, a scalar\n",
    "        im_dim: the dimension of the images, fitted for the dataset used, scalar\n",
    "          (for MNIST, 28x28 = 784)\n",
    "        hidden_dim: the inner dimension, a scalar\n",
    "    \"\"\"\n",
    "    "
   ]
  }
 ],
 "metadata": {
  "kernelspec": {
   "display_name": "Python 3",
   "language": "python",
   "name": "python3"
  },
  "language_info": {
   "codemirror_mode": {
    "name": "ipython",
    "version": 3
   },
   "file_extension": ".py",
   "mimetype": "text/x-python",
   "name": "python",
   "nbconvert_exporter": "python",
   "pygments_lexer": "ipython3",
   "version": "3.7.9"
  }
 },
 "nbformat": 4,
 "nbformat_minor": 4
}
