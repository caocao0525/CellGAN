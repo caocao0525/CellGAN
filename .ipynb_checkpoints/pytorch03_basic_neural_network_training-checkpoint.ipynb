{
 "cells": [
  {
   "cell_type": "markdown",
   "metadata": {},
   "source": [
    "### Image classification test based on basic neural network\n",
    "\n",
    "pp. 58\n",
    "\n",
    "1. Read the data: Transform the data into tensors, the input shape for the network.\n",
    "2. Define the network (using Multi Layer Perceptron)\n",
    "3. Define loss function\n",
    "4. Define optimization\n",
    "5. Train the network\n",
    "6. Make a prediction"
   ]
  },
  {
   "cell_type": "code",
   "execution_count": 1,
   "metadata": {},
   "outputs": [],
   "source": [
    "import torch\n",
    "import torchvision\n",
    "import torch.nn as nn\n",
    "import torch.optim as optim\n",
    "import torch.nn.functional as F\n",
    "import torchvision.transforms as transforms\n",
    "%matplotlib inline\n",
    "import numpy as np\n",
    "from matplotlib import pyplot as plt"
   ]
  },
  {
   "cell_type": "code",
   "execution_count": 2,
   "metadata": {},
   "outputs": [
    {
     "name": "stdout",
     "output_type": "stream",
     "text": [
      "Files already downloaded and verified\n",
      "Files already downloaded and verified\n",
      "torch.Size([3, 32, 32])\n",
      "6\n"
     ]
    }
   ],
   "source": [
    "# 1. READ THE DATA: Download the dataset \"CIFAR-10\"\n",
    "\n",
    "train_dataset = torchvision.datasets.CIFAR10(root='../CIFAR10', train=True, transform=transforms.ToTensor(), download=True)\n",
    "test_dataset = torchvision.datasets.CIFAR10(root='../CIFAR10', train=False, transform=transforms.ToTensor(), download=True)\n",
    "\n",
    "image, label = train_dataset[0]\n",
    "print(image.size())\n",
    "print(label)"
   ]
  },
  {
   "cell_type": "code",
   "execution_count": 3,
   "metadata": {},
   "outputs": [],
   "source": [
    "train_loader = torch.utils.data.DataLoader(dataset=train_dataset, batch_size=64, shuffle=True, num_workers=2)\n",
    "test_loader = torch.utils.data.DataLoader(dataset=test_dataset, batch_size=64, shuffle=False, num_workers=2)"
   ]
  },
  {
   "cell_type": "code",
   "execution_count": 4,
   "metadata": {},
   "outputs": [
    {
     "name": "stdout",
     "output_type": "stream",
     "text": [
      "torch.Size([64, 3, 32, 32])\n",
      "torch.Size([3, 32, 32])\n",
      "torch.Size([64])\n"
     ]
    }
   ],
   "source": [
    "# (Optional) Check the size of the loaded dataset \n",
    "\n",
    "for images, labels in train_loader:\n",
    "    print(images.size()) # loaded tensors\n",
    "    print(images[0].size()) # first batch\n",
    "    print(labels.size())\n",
    "    break"
   ]
  },
  {
   "cell_type": "code",
   "execution_count": 34,
   "metadata": {},
   "outputs": [],
   "source": [
    "# 2. DEFINE THE NETWORK: based on MLP\n",
    "\n",
    "num_classes = 10\n",
    "class MLPNet (nn.Module):\n",
    "    def __init__(self):\n",
    "        super(MLPNet, self).__init__()\n",
    "        self.fc1 = nn.Linear(32*32*3, 600) # fully connected layer 1\n",
    "        self.fc2 = nn.Linear(600, 600)     # fully connected layer 2\n",
    "        self.fc3 = nn.Linear(600, num_classes) # fully connected layer 3\n",
    "        self.dropout1 = nn.Dropout2d(0.2) # droptout layer 1\n",
    "        self.dropout2 = nn.Dropout2d(0.2) # dropout layer 2\n",
    "        \n",
    "    def forward(self, x):\n",
    "        x = F.relu(self.fc1(x))\n",
    "        x = self.dropout1(x)\n",
    "        x = F.relu(self.fc2(x))\n",
    "        x = self.dropout2(x)\n",
    "        return F.relu(self.fc3(x))\n",
    "    \n",
    "device = 'cuda' if torch.cuda.is_available() else 'cpu'\n",
    "net = MLPNet().to(device)"
   ]
  },
  {
   "cell_type": "code",
   "execution_count": 35,
   "metadata": {},
   "outputs": [],
   "source": [
    "# 3 & 4. DEFINE LOSS FUNCTION AND OPTIMIZATION\n",
    "\n",
    "criterion = nn.CrossEntropyLoss()\n",
    "optimizer = optim.SGD(net.parameters(), lr=0.01, momentum=0.9, weight_decay=5e-4)"
   ]
  },
  {
   "cell_type": "code",
   "execution_count": 36,
   "metadata": {
    "scrolled": true
   },
   "outputs": [
    {
     "name": "stdout",
     "output_type": "stream",
     "text": [
      "Epoch [1/50], Loss: 0.0310, val_loss: 0.0275, val_acc: 0.3751\n",
      "Epoch [2/50], Loss: 0.0276, val_loss: 0.0264, val_acc: 0.4061\n",
      "Epoch [3/50], Loss: 0.0265, val_loss: 0.0253, val_acc: 0.4247\n",
      "Epoch [4/50], Loss: 0.0256, val_loss: 0.0244, val_acc: 0.4504\n",
      "Epoch [5/50], Loss: 0.0251, val_loss: 0.0243, val_acc: 0.4442\n",
      "Epoch [6/50], Loss: 0.0246, val_loss: 0.0239, val_acc: 0.4558\n",
      "Epoch [7/50], Loss: 0.0242, val_loss: 0.0237, val_acc: 0.4657\n",
      "Epoch [8/50], Loss: 0.0239, val_loss: 0.0234, val_acc: 0.4592\n",
      "Epoch [9/50], Loss: 0.0236, val_loss: 0.0234, val_acc: 0.4717\n",
      "Epoch [10/50], Loss: 0.0233, val_loss: 0.0229, val_acc: 0.4786\n",
      "Epoch [11/50], Loss: 0.0230, val_loss: 0.0228, val_acc: 0.4806\n",
      "Epoch [12/50], Loss: 0.0228, val_loss: 0.0223, val_acc: 0.4872\n",
      "Epoch [13/50], Loss: 0.0225, val_loss: 0.0223, val_acc: 0.4782\n",
      "Epoch [14/50], Loss: 0.0224, val_loss: 0.0224, val_acc: 0.4837\n",
      "Epoch [15/50], Loss: 0.0221, val_loss: 0.0229, val_acc: 0.4854\n",
      "Epoch [16/50], Loss: 0.0220, val_loss: 0.0216, val_acc: 0.5088\n",
      "Epoch [17/50], Loss: 0.0218, val_loss: 0.0216, val_acc: 0.5072\n",
      "Epoch [18/50], Loss: 0.0217, val_loss: 0.0220, val_acc: 0.4904\n",
      "Epoch [19/50], Loss: 0.0216, val_loss: 0.0214, val_acc: 0.5134\n",
      "Epoch [20/50], Loss: 0.0214, val_loss: 0.0220, val_acc: 0.5031\n",
      "Epoch [21/50], Loss: 0.0213, val_loss: 0.0218, val_acc: 0.5081\n",
      "Epoch [22/50], Loss: 0.0211, val_loss: 0.0210, val_acc: 0.5208\n",
      "Epoch [23/50], Loss: 0.0211, val_loss: 0.0215, val_acc: 0.5089\n",
      "Epoch [24/50], Loss: 0.0209, val_loss: 0.0219, val_acc: 0.5019\n",
      "Epoch [25/50], Loss: 0.0208, val_loss: 0.0209, val_acc: 0.5284\n",
      "Epoch [26/50], Loss: 0.0208, val_loss: 0.0213, val_acc: 0.5206\n",
      "Epoch [27/50], Loss: 0.0205, val_loss: 0.0212, val_acc: 0.5186\n",
      "Epoch [28/50], Loss: 0.0205, val_loss: 0.0208, val_acc: 0.5254\n",
      "Epoch [29/50], Loss: 0.0204, val_loss: 0.0207, val_acc: 0.5291\n",
      "Epoch [30/50], Loss: 0.0203, val_loss: 0.0217, val_acc: 0.5103\n",
      "Epoch [31/50], Loss: 0.0202, val_loss: 0.0207, val_acc: 0.5330\n",
      "Epoch [32/50], Loss: 0.0202, val_loss: 0.0207, val_acc: 0.5266\n",
      "Epoch [33/50], Loss: 0.0200, val_loss: 0.0211, val_acc: 0.5163\n",
      "Epoch [34/50], Loss: 0.0199, val_loss: 0.0209, val_acc: 0.5330\n",
      "Epoch [35/50], Loss: 0.0199, val_loss: 0.0211, val_acc: 0.5238\n",
      "Epoch [36/50], Loss: 0.0198, val_loss: 0.0209, val_acc: 0.5227\n",
      "Epoch [37/50], Loss: 0.0197, val_loss: 0.0210, val_acc: 0.5229\n",
      "Epoch [38/50], Loss: 0.0197, val_loss: 0.0208, val_acc: 0.5229\n",
      "Epoch [39/50], Loss: 0.0198, val_loss: 0.0211, val_acc: 0.5243\n",
      "Epoch [40/50], Loss: 0.0197, val_loss: 0.0208, val_acc: 0.5281\n",
      "Epoch [41/50], Loss: 0.0196, val_loss: 0.0209, val_acc: 0.5264\n",
      "Epoch [42/50], Loss: 0.0195, val_loss: 0.0208, val_acc: 0.5231\n",
      "Epoch [43/50], Loss: 0.0195, val_loss: 0.0205, val_acc: 0.5336\n",
      "Epoch [44/50], Loss: 0.0193, val_loss: 0.0213, val_acc: 0.5161\n",
      "Epoch [45/50], Loss: 0.0193, val_loss: 0.0207, val_acc: 0.5319\n",
      "Epoch [46/50], Loss: 0.0191, val_loss: 0.0206, val_acc: 0.5317\n",
      "Epoch [47/50], Loss: 0.0193, val_loss: 0.0204, val_acc: 0.5376\n",
      "Epoch [48/50], Loss: 0.0191, val_loss: 0.0213, val_acc: 0.5239\n",
      "Epoch [49/50], Loss: 0.0192, val_loss: 0.0212, val_acc: 0.5188\n",
      "Epoch [50/50], Loss: 0.0190, val_loss: 0.0210, val_acc: 0.5221\n"
     ]
    }
   ],
   "source": [
    "# 5. TRAIN THE NETWORK\n",
    "\n",
    "num_epochs = 50\n",
    "\n",
    "train_loss_list = [] # make an empty list for later use\n",
    "train_acc_list = []\n",
    "val_loss_list = []\n",
    "val_acc_list = []\n",
    "\n",
    "for epoch in range(num_epochs):\n",
    "    train_loss = 0 # set initial values for all the epoch\n",
    "    train_acc = 0\n",
    "    val_loss = 0\n",
    "    val_acc = 0\n",
    "    \n",
    "    ##### train #####\n",
    "    net.train()  # transform into training mode \n",
    "    # read by mini batch\n",
    "    for i, (images, labels) in enumerate(train_loader):\n",
    "        images, labels = images.view(-1, 32*32*3).to(device), labels.to(device) # transform into 1D and transfer to GPU\n",
    "        optimizer.zero_grad() # initialize the gradient\n",
    "        outputs = net(images) # feedforward calculation\n",
    "        loss = criterion(outputs, labels)\n",
    "        train_loss +=loss.item()\n",
    "        train_acc += (outputs.max(1)[1]==labels).sum().item()\n",
    "        loss.backward() # backpropagation calculation\n",
    "        optimizer.step() \n",
    "        \n",
    "    avg_train_loss = train_loss / len(train_loader.dataset)\n",
    "    avg_train_acc = train_acc / len(train_loader.dataset)\n",
    "    \n",
    "    ##### evaluation #####\n",
    "    net.eval() # switch to evaluation mode\n",
    "    with torch.no_grad(): # gradient calculation is not required for the evaluation\n",
    "        for images, labels in test_loader:\n",
    "            images, labels = images.view(-1, 32*32*3).to(device), labels.to(device)\n",
    "            outputs = net(images)\n",
    "            loss = criterion(outputs, labels)\n",
    "            val_loss += loss.item()\n",
    "            val_acc += (outputs.max(1)[1] == labels).sum().item()\n",
    "        avg_val_loss = val_loss / len(test_loader.dataset)\n",
    "        avg_val_acc = val_acc / len(test_loader.dataset)\n",
    "            \n",
    "        print(\"Epoch [{}/{}], Loss: {loss:.4f}, val_loss: {val_loss:.4f}, val_acc: {val_acc:.4f}\".format\n",
    "                  (epoch+1, num_epochs, i+1, loss = avg_train_loss, val_loss=avg_val_loss, val_acc=avg_val_acc))\n",
    "            \n",
    "        train_loss_list.append(avg_train_loss)\n",
    "        train_acc_list.append(avg_train_acc)\n",
    "        val_loss_list.append(avg_val_loss)\n",
    "        val_acc_list.append(avg_val_acc)\n"
   ]
  },
  {
   "cell_type": "markdown",
   "metadata": {},
   "source": [
    "**What does** <code>(outputs.max(1)[1] == labels).sum().item() </code> **mean?**"
   ]
  },
  {
   "cell_type": "code",
   "execution_count": 41,
   "metadata": {},
   "outputs": [
    {
     "data": {
      "text/plain": [
       "tensor([4, 3, 8, 0, 8, 4, 5, 8, 3, 3, 5, 8, 5, 5, 4, 7], device='cuda:0')"
      ]
     },
     "execution_count": 41,
     "metadata": {},
     "output_type": "execute_result"
    }
   ],
   "source": [
    "outputs.max(1)[1] # represents the prediction made"
   ]
  },
  {
   "cell_type": "code",
   "execution_count": 48,
   "metadata": {},
   "outputs": [
    {
     "data": {
      "text/plain": [
       "tensor([False, False,  True,  True,  True, False, False, False,  True, False,\n",
       "        False,  True, False,  True, False,  True], device='cuda:0')"
      ]
     },
     "execution_count": 48,
     "metadata": {},
     "output_type": "execute_result"
    }
   ],
   "source": [
    "outputs.max(1)[1] == labels # tests whether the prediction is correct"
   ]
  },
  {
   "cell_type": "code",
   "execution_count": 52,
   "metadata": {},
   "outputs": [
    {
     "name": "stdout",
     "output_type": "stream",
     "text": [
      "tensor(7, device='cuda:0')\n"
     ]
    }
   ],
   "source": [
    "print((outputs.max(1)[1] == labels).sum()) # calculates the sum by counting True as 1 False as 0"
   ]
  },
  {
   "cell_type": "code",
   "execution_count": 51,
   "metadata": {},
   "outputs": [
    {
     "name": "stdout",
     "output_type": "stream",
     "text": [
      "7\n"
     ]
    }
   ],
   "source": [
    "print((outputs.max(1)[1] == labels).sum().item()) # extracts the number only"
   ]
  },
  {
   "cell_type": "code",
   "execution_count": 53,
   "metadata": {},
   "outputs": [
    {
     "data": {
      "image/png": "[encoded data removed]",
      "text/plain": [
       "<Figure size 432x288 with 1 Axes>"
      ]
     },
     "metadata": {
      "needs_background": "light"
     },
     "output_type": "display_data"
    },
    {
     "data": {
      "image/png": "[encoded data removed]",
      "text/plain": [
       "<Figure size 432x288 with 1 Axes>"
      ]
     },
     "metadata": {
      "needs_background": "light"
     },
     "output_type": "display_data"
    }
   ],
   "source": [
    "import matplotlib.pyplot as plt\n",
    "%matplotlib inline\n",
    "\n",
    "plt.figure()\n",
    "plt.plot(range(num_epochs), train_loss_list, color = 'blue', linestyle = '-', label = 'train_loss')\n",
    "plt.plot(range(num_epochs), val_loss_list, color = 'green', linestyle = '--', label = 'val_loss')\n",
    "plt.legend()\n",
    "plt.xlabel('epoch')\n",
    "plt.ylabel('loss')\n",
    "plt.title('Training and validation loss')\n",
    "plt.grid()\n",
    "\n",
    "plt.figure()\n",
    "plt.plot(range(num_epochs), train_acc_list, color = 'blue', linestyle = '-', label = 'train_acc')\n",
    "plt.plot(range(num_epochs), val_acc_list, color = 'green', linestyle = '--', label = 'val_acc')\n",
    "plt.legend()\n",
    "plt.xlabel('epoch')\n",
    "plt.ylabel('loss')\n",
    "plt.title('Training and validation accuracy')\n",
    "plt.grid()\n"
   ]
  },
  {
   "cell_type": "code",
   "execution_count": 54,
   "metadata": {},
   "outputs": [],
   "source": [
    "torch.save(net.state_dict(), '../net.ckpt')"
   ]
  },
  {
   "cell_type": "code",
   "execution_count": 55,
   "metadata": {},
   "outputs": [
    {
     "data": {
      "text/plain": [
       "<All keys matched successfully>"
      ]
     },
     "execution_count": 55,
     "metadata": {},
     "output_type": "execute_result"
    }
   ],
   "source": [
    "net2 = MLPNet().to(device)\n",
    "net2.load_state_dict(torch.load('../net.ckpt'))"
   ]
  },
  {
   "cell_type": "code",
   "execution_count": 56,
   "metadata": {},
   "outputs": [
    {
     "name": "stdout",
     "output_type": "stream",
     "text": [
      "accuracy: 52.21\n"
     ]
    }
   ],
   "source": [
    "net2.eval()\n",
    "with torch.no_grad():\n",
    "    total = 0\n",
    "    test_acc =0\n",
    "    for images, labels in test_loader:\n",
    "        images, labels = images.view(-1, 32*32*3).to(device), labels.to(device)\n",
    "        outputs = net2(images)\n",
    "        test_acc += (outputs.max(1)[1] == labels).sum().item()\n",
    "        total +=labels.size(0)\n",
    "    print(\"accuracy: {}\".format(100*test_acc/total))"
   ]
  },
  {
   "cell_type": "code",
   "execution_count": null,
   "metadata": {},
   "outputs": [],
   "source": []
  }
 ],
 "metadata": {
  "kernelspec": {
   "display_name": "Python 3",
   "language": "python",
   "name": "python3"
  },
  "language_info": {
   "codemirror_mode": {
    "name": "ipython",
    "version": 3
   },
   "file_extension": ".py",
   "mimetype": "text/x-python",
   "name": "python",
   "nbconvert_exporter": "python",
   "pygments_lexer": "ipython3",
   "version": "3.7.9"
  }
 },
 "nbformat": 4,
 "nbformat_minor": 4
}
