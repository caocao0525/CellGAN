{
 "cells": [
  {
   "cell_type": "markdown",
   "metadata": {},
   "source": [
    "## Pytorch basic 00\n",
    "following \"Pytorch Neural Network 実装 Handbook\"\n",
    "\n",
    "---\n",
    "\n",
    " 1. Install Pytorch (p.21)\n",
    "\n",
    "    <code>!pip install torch==0.4.1 </code>\n",
    "    \n",
    "    <code>!pip install torchvision==0.2.1</code>"
   ]
  },
  {
   "cell_type": "code",
   "execution_count": 1,
   "metadata": {},
   "outputs": [
    {
     "name": "stdout",
     "output_type": "stream",
     "text": [
      "Collecting torch==0.4.1\n",
      "  Downloading torch-0.4.1-cp37-cp37m-macosx_10_7_x86_64.whl (11.5 MB)\n",
      "\u001b[K     |████████████████████████████████| 11.5 MB 5.7 MB/s eta 0:00:01\n",
      "\u001b[?25hInstalling collected packages: torch\n",
      "  Attempting uninstall: torch\n",
      "    Found existing installation: torch 1.7.0\n",
      "    Uninstalling torch-1.7.0:\n",
      "      Successfully uninstalled torch-1.7.0\n",
      "Successfully installed torch-0.4.1\n",
      "Collecting torchvision==0.2.1\n",
      "  Downloading torchvision-0.2.1-py2.py3-none-any.whl (54 kB)\n",
      "\u001b[K     |████████████████████████████████| 54 kB 1.5 MB/s eta 0:00:01\n",
      "\u001b[?25hRequirement already satisfied: numpy in /Users/schona/opt/anaconda3/lib/python3.7/site-packages (from torchvision==0.2.1) (1.19.4)\n",
      "Requirement already satisfied: torch in /Users/schona/opt/anaconda3/lib/python3.7/site-packages (from torchvision==0.2.1) (0.4.1)\n",
      "Requirement already satisfied: pillow>=4.1.1 in /Users/schona/opt/anaconda3/lib/python3.7/site-packages (from torchvision==0.2.1) (7.2.0)\n",
      "Requirement already satisfied: six in /Users/schona/opt/anaconda3/lib/python3.7/site-packages (from torchvision==0.2.1) (1.15.0)\n",
      "Installing collected packages: torchvision\n",
      "  Attempting uninstall: torchvision\n",
      "    Found existing installation: torchvision 0.8.1\n",
      "    Uninstalling torchvision-0.8.1:\n",
      "      Successfully uninstalled torchvision-0.8.1\n",
      "Successfully installed torchvision-0.2.1\n"
     ]
    }
   ],
   "source": [
    "!pip install torch==0.4.1\n",
    "!pip install torchvision==0.2.1"
   ]
  },
  {
   "cell_type": "code",
   "execution_count": 2,
   "metadata": {},
   "outputs": [
    {
     "name": "stdout",
     "output_type": "stream",
     "text": [
      "0.4.1\n"
     ]
    }
   ],
   "source": [
    "# import and check the version\n",
    "import torch\n",
    "print(torch.__version__)"
   ]
  },
  {
   "cell_type": "markdown",
   "metadata": {},
   "source": [
    "2. "
   ]
  }
 ],
 "metadata": {
  "kernelspec": {
   "display_name": "Python 3",
   "language": "python",
   "name": "python3"
  },
  "language_info": {
   "codemirror_mode": {
    "name": "ipython",
    "version": 3
   },
   "file_extension": ".py",
   "mimetype": "text/x-python",
   "name": "python",
   "nbconvert_exporter": "python",
   "pygments_lexer": "ipython3",
   "version": "3.7.4"
  }
 },
 "nbformat": 4,
 "nbformat_minor": 4
}
